{
 "cells": [
  {
   "cell_type": "markdown",
   "id": "2f18b650",
   "metadata": {},
   "source": [
    "#### hypotheses"
   ]
  },
  {
   "cell_type": "markdown",
   "id": "8fee2e83",
   "metadata": {},
   "source": [
    "#### If add maybe work well\n",
    "- add distance between airports\n",
    "- add meteo\n",
    "- add holidays for **from** ans **to**\n",
    "- mean ticket prices 24h before, avrage before"
   ]
  },
  {
   "cell_type": "code",
   "execution_count": null,
   "id": "4af2afb5",
   "metadata": {},
   "outputs": [],
   "source": []
  },
  {
   "cell_type": "code",
   "execution_count": 1,
   "id": "848acdb9",
   "metadata": {},
   "outputs": [],
   "source": [
    "import numpy as np\n",
    "import requests\n",
    "from datetime import datetime\n",
    "from sklearn.pipeline import make_pipeline\n",
    "from sklearn.pipeline import Pipeline\n",
    "from sklearn.compose import ColumnTransformer\n",
    "from sklearn.preprocessing import OneHotEncoder, StandardScaler\n",
    "from sklearn.ensemble import RandomForestRegressor\n",
    "from sklearn.svm import SVR\n",
    "from xgboost import XGBRegressor\n",
    "from sklearn.model_selection import GridSearchCV\n",
    "from sklearn.model_selection import RandomizedSearchCV\n",
    "from sklearn.model_selection import train_test_split\n",
    "from sklearn.metrics import mean_squared_error as mse\n",
    "from sklearn import set_config\n",
    "import pandas as pd\n",
    "from pandas_profiling import ProfileReport\n",
    "pd.set_option('display.max_columns', None)"
   ]
  },
  {
   "cell_type": "markdown",
   "id": "58736001",
   "metadata": {},
   "source": [
    "## Data reading"
   ]
  },
  {
   "cell_type": "code",
   "execution_count": 2,
   "id": "f12b42c8",
   "metadata": {},
   "outputs": [],
   "source": [
    "# Old dataframe\n",
    "df = pd.read_csv('./data/flights_train.csv.bz2')\n",
    "df_sub = pd.read_csv('./data/flights_Xtest.csv.bz2')"
   ]
  },
  {
   "cell_type": "code",
   "execution_count": 3,
   "id": "a2c27a0b",
   "metadata": {},
   "outputs": [],
   "source": [
    "df['flight_date'] = pd.to_datetime(df['flight_date'])\n",
    "df_sub['flight_date'] = pd.to_datetime(df_sub['flight_date'])"
   ]
  },
  {
   "cell_type": "markdown",
   "id": "33cf1c20",
   "metadata": {},
   "source": [
    "###  UTILS"
   ]
  },
  {
   "cell_type": "markdown",
   "id": "30c30ee5",
   "metadata": {},
   "source": [
    "##### APIs"
   ]
  },
  {
   "cell_type": "code",
   "execution_count": 4,
   "id": "0e189275",
   "metadata": {},
   "outputs": [
    {
     "data": {
      "text/plain": [
       "0    Nouaceur\n",
       "dtype: object"
      ]
     },
     "execution_count": 4,
     "metadata": {},
     "output_type": "execute_result"
    }
   ],
   "source": [
    "from joblib import Memory\n",
    "location = './cachedir'\n",
    "memory = Memory(location, verbose=0)\n",
    "\n",
    "headers = {'x-rapidapi-host': \"airport-info.p.rapidapi.com\",\n",
    "           'x-rapidapi-key': \"670c14cef2mshc0f539c8f496dbcp19f4cejsn7e4b16db61a9\"}\n",
    "\n",
    "def metadata_airport(code):\n",
    "    url = \"https://airport-info.p.rapidapi.com/airport\"\n",
    "    querystring = {\"iata\" : code, \"icao\" : code}\n",
    "    response = requests.request(\"GET\", url, headers=headers, params=querystring)\n",
    "    # print(response.text)\n",
    "    response = dict(eval(response.text))\n",
    "    \n",
    "    # pd.Series([response[\"latitude\"], response[\"longitude\"], response[\"country\"], response[\"city\"]])\n",
    "    return pd.Series(response[\"city\"])\n",
    "\n",
    "metadata_airport = memory.cache(metadata_airport)\n",
    "\n",
    "metadata_airport('CMN')"
   ]
  },
  {
   "cell_type": "code",
   "execution_count": 5,
   "id": "6eb52477",
   "metadata": {},
   "outputs": [],
   "source": [
    "# df['from_city'] = df['from'].apply(metadata_airport)\n",
    "# df['to_city'] = df['to'].apply(metadata_airport)"
   ]
  },
  {
   "cell_type": "code",
   "execution_count": 6,
   "id": "2ae19fc9",
   "metadata": {},
   "outputs": [],
   "source": [
    "# df_sub['from_city'] = df_sub['from'].apply(metadata_airport)\n",
    "# df_sub['to_city'] = df_sub['to'].apply(metadata_airport)"
   ]
  },
  {
   "cell_type": "code",
   "execution_count": 7,
   "id": "7389a9cf",
   "metadata": {},
   "outputs": [],
   "source": [
    "# df[['from_latitude', 'from_longitude', 'from_country']] = df['from'].apply(metadata_airport)\n",
    "# df[['to_latitude', 'to_longitude', 'to_country']] = df['to'].apply(metadata_airport)"
   ]
  },
  {
   "cell_type": "code",
   "execution_count": 8,
   "id": "72d2aef3",
   "metadata": {
    "scrolled": false
   },
   "outputs": [],
   "source": [
    "# df_sub[['from_latitude', 'from_longitude', 'from_country']] = df_sub['from'].apply(metadata_airport)\n",
    "# df_sub[['to_latitude', 'to_longitude', 'to_country']] = df_sub['to'].apply(metadata_airport)"
   ]
  },
  {
   "cell_type": "markdown",
   "id": "2f6069e8",
   "metadata": {},
   "source": [
    "##### Blending Models"
   ]
  },
  {
   "cell_type": "code",
   "execution_count": 9,
   "id": "e6f6a048",
   "metadata": {},
   "outputs": [],
   "source": [
    "def blender(models):\n",
    "    return np.mean(models, axis=0)"
   ]
  },
  {
   "cell_type": "markdown",
   "id": "765e961f",
   "metadata": {},
   "source": [
    "## Data description"
   ]
  },
  {
   "cell_type": "code",
   "execution_count": 10,
   "id": "eda4c078",
   "metadata": {
    "scrolled": true
   },
   "outputs": [
    {
     "data": {
      "text/html": [
       "<div>\n",
       "<style scoped>\n",
       "    .dataframe tbody tr th:only-of-type {\n",
       "        vertical-align: middle;\n",
       "    }\n",
       "\n",
       "    .dataframe tbody tr th {\n",
       "        vertical-align: top;\n",
       "    }\n",
       "\n",
       "    .dataframe thead th {\n",
       "        text-align: right;\n",
       "    }\n",
       "</style>\n",
       "<table border=\"1\" class=\"dataframe\">\n",
       "  <thead>\n",
       "    <tr style=\"text-align: right;\">\n",
       "      <th></th>\n",
       "      <th>flight_date</th>\n",
       "      <th>from</th>\n",
       "      <th>to</th>\n",
       "      <th>avg_weeks</th>\n",
       "      <th>target</th>\n",
       "      <th>std_weeks</th>\n",
       "    </tr>\n",
       "  </thead>\n",
       "  <tbody>\n",
       "    <tr>\n",
       "      <th>0</th>\n",
       "      <td>2012-06-19</td>\n",
       "      <td>ORD</td>\n",
       "      <td>DFW</td>\n",
       "      <td>12.875000</td>\n",
       "      <td>12.331296</td>\n",
       "      <td>9.812647</td>\n",
       "    </tr>\n",
       "    <tr>\n",
       "      <th>1</th>\n",
       "      <td>2012-09-10</td>\n",
       "      <td>LAS</td>\n",
       "      <td>DEN</td>\n",
       "      <td>14.285714</td>\n",
       "      <td>10.775182</td>\n",
       "      <td>9.466734</td>\n",
       "    </tr>\n",
       "    <tr>\n",
       "      <th>2</th>\n",
       "      <td>2012-10-05</td>\n",
       "      <td>DEN</td>\n",
       "      <td>LAX</td>\n",
       "      <td>10.863636</td>\n",
       "      <td>11.083177</td>\n",
       "      <td>9.035883</td>\n",
       "    </tr>\n",
       "    <tr>\n",
       "      <th>3</th>\n",
       "      <td>2011-10-09</td>\n",
       "      <td>ATL</td>\n",
       "      <td>ORD</td>\n",
       "      <td>11.480000</td>\n",
       "      <td>11.169268</td>\n",
       "      <td>7.990202</td>\n",
       "    </tr>\n",
       "    <tr>\n",
       "      <th>4</th>\n",
       "      <td>2012-02-21</td>\n",
       "      <td>DEN</td>\n",
       "      <td>SFO</td>\n",
       "      <td>11.450000</td>\n",
       "      <td>11.269364</td>\n",
       "      <td>9.517159</td>\n",
       "    </tr>\n",
       "  </tbody>\n",
       "</table>\n",
       "</div>"
      ],
      "text/plain": [
       "  flight_date from   to  avg_weeks     target  std_weeks\n",
       "0  2012-06-19  ORD  DFW  12.875000  12.331296   9.812647\n",
       "1  2012-09-10  LAS  DEN  14.285714  10.775182   9.466734\n",
       "2  2012-10-05  DEN  LAX  10.863636  11.083177   9.035883\n",
       "3  2011-10-09  ATL  ORD  11.480000  11.169268   7.990202\n",
       "4  2012-02-21  DEN  SFO  11.450000  11.269364   9.517159"
      ]
     },
     "execution_count": 10,
     "metadata": {},
     "output_type": "execute_result"
    }
   ],
   "source": [
    "df.head()"
   ]
  },
  {
   "cell_type": "code",
   "execution_count": 11,
   "id": "0383eb00",
   "metadata": {},
   "outputs": [],
   "source": [
    "# profile = ProfileReport(df, title=\"Pandas Profiling Report\")\n",
    "# profile"
   ]
  },
  {
   "cell_type": "code",
   "execution_count": null,
   "id": "0d15b6f5",
   "metadata": {
    "scrolled": false
   },
   "outputs": [],
   "source": []
  },
  {
   "cell_type": "markdown",
   "id": "9caeaa4c",
   "metadata": {},
   "source": [
    "- target variable is symetric \n",
    "- there is no hard correlation between target and other dependent variable.\n",
    "\n",
    "**we need to add meta data, first thing add coordinate for each eaiport, to determine the distance between airports because the price of a flight ticket correlate with the distance, and costumers tend to not let go expensive flight tickets**"
   ]
  },
  {
   "cell_type": "markdown",
   "id": "f92f83f5",
   "metadata": {},
   "source": [
    "the new data is collected thanks to an api that get airports infos"
   ]
  },
  {
   "cell_type": "code",
   "execution_count": 12,
   "id": "0b1742f2",
   "metadata": {},
   "outputs": [],
   "source": [
    "# # New dataframe\n",
    "df = pd.read_csv('./data/train_with_city.csv')\n",
    "df_sub = pd.read_csv('./data/test_with_city.csv')"
   ]
  },
  {
   "cell_type": "code",
   "execution_count": 13,
   "id": "4aee8e9b",
   "metadata": {},
   "outputs": [],
   "source": [
    "# # New dataframe\n",
    "# df = pd.read_csv('./data/train_with_coor.csv')\n",
    "# df_sub = pd.read_csv('./data/test_with_coor.csv')"
   ]
  },
  {
   "cell_type": "code",
   "execution_count": 14,
   "id": "b02f5214",
   "metadata": {},
   "outputs": [],
   "source": [
    "# df['from_country'].value_counts()"
   ]
  },
  {
   "cell_type": "code",
   "execution_count": 15,
   "id": "efa4e241",
   "metadata": {},
   "outputs": [],
   "source": [
    "# df['from_country'].value_counts()"
   ]
  },
  {
   "cell_type": "markdown",
   "id": "c2d6a3a1",
   "metadata": {},
   "source": [
    "- All the flights from and to are domestic ones\n",
    "- we should drop from_country and to_country because they have one unique value"
   ]
  },
  {
   "cell_type": "code",
   "execution_count": 16,
   "id": "d41b1819",
   "metadata": {},
   "outputs": [],
   "source": [
    "# df = df.drop(['from_country', 'to_country'], axis=1)"
   ]
  },
  {
   "cell_type": "code",
   "execution_count": 17,
   "id": "aade1042",
   "metadata": {},
   "outputs": [],
   "source": [
    "# import geopy.distance\n",
    "# def calculate_distance(l1, L1, l2, L2):\n",
    "#     coords_1 = (l1, L1)\n",
    "#     coords_2 = (l2, L2)\n",
    "#     return geopy.distance.distance(coords_1, coords_2).km\n",
    "\n",
    "\n",
    "# df['distance'] = np.vectorize(calculate_distance)(df['from_latitude'], df['from_longitude'], df['to_latitude'], df['to_longitude'])"
   ]
  },
  {
   "cell_type": "code",
   "execution_count": 18,
   "id": "6342cb83",
   "metadata": {},
   "outputs": [],
   "source": [
    "# df_sub['distance'] = np.vectorize(calculate_distance)(df_sub['from_latitude'], df_sub['from_longitude'], df_sub['to_latitude'], df_sub['to_longitude'])"
   ]
  },
  {
   "cell_type": "code",
   "execution_count": 19,
   "id": "2096fd50",
   "metadata": {},
   "outputs": [
    {
     "data": {
      "text/html": [
       "<div>\n",
       "<style scoped>\n",
       "    .dataframe tbody tr th:only-of-type {\n",
       "        vertical-align: middle;\n",
       "    }\n",
       "\n",
       "    .dataframe tbody tr th {\n",
       "        vertical-align: top;\n",
       "    }\n",
       "\n",
       "    .dataframe thead th {\n",
       "        text-align: right;\n",
       "    }\n",
       "</style>\n",
       "<table border=\"1\" class=\"dataframe\">\n",
       "  <thead>\n",
       "    <tr style=\"text-align: right;\">\n",
       "      <th></th>\n",
       "      <th>flight_date</th>\n",
       "      <th>from</th>\n",
       "      <th>to</th>\n",
       "      <th>avg_weeks</th>\n",
       "      <th>target</th>\n",
       "      <th>std_weeks</th>\n",
       "      <th>from_latitude</th>\n",
       "      <th>from_longitude</th>\n",
       "      <th>to_latitude</th>\n",
       "      <th>to_longitude</th>\n",
       "      <th>distance</th>\n",
       "      <th>from_city</th>\n",
       "      <th>to_city</th>\n",
       "    </tr>\n",
       "  </thead>\n",
       "  <tbody>\n",
       "    <tr>\n",
       "      <th>0</th>\n",
       "      <td>2012-06-19</td>\n",
       "      <td>ORD</td>\n",
       "      <td>DFW</td>\n",
       "      <td>12.875000</td>\n",
       "      <td>12.331296</td>\n",
       "      <td>9.812647</td>\n",
       "      <td>41.974163</td>\n",
       "      <td>-87.907320</td>\n",
       "      <td>32.899810</td>\n",
       "      <td>-97.040340</td>\n",
       "      <td>1289.698532</td>\n",
       "      <td>Chicago</td>\n",
       "      <td>DFW Airport</td>\n",
       "    </tr>\n",
       "    <tr>\n",
       "      <th>1</th>\n",
       "      <td>2012-09-10</td>\n",
       "      <td>LAS</td>\n",
       "      <td>DEN</td>\n",
       "      <td>14.285714</td>\n",
       "      <td>10.775182</td>\n",
       "      <td>9.466734</td>\n",
       "      <td>36.084000</td>\n",
       "      <td>-115.153740</td>\n",
       "      <td>39.856100</td>\n",
       "      <td>-104.673740</td>\n",
       "      <td>1010.700812</td>\n",
       "      <td>Las Vegas</td>\n",
       "      <td>Denver</td>\n",
       "    </tr>\n",
       "    <tr>\n",
       "      <th>2</th>\n",
       "      <td>2012-10-05</td>\n",
       "      <td>DEN</td>\n",
       "      <td>LAX</td>\n",
       "      <td>10.863636</td>\n",
       "      <td>11.083177</td>\n",
       "      <td>9.035883</td>\n",
       "      <td>39.856100</td>\n",
       "      <td>-104.673740</td>\n",
       "      <td>33.941590</td>\n",
       "      <td>-118.408530</td>\n",
       "      <td>1386.808962</td>\n",
       "      <td>Denver</td>\n",
       "      <td>Los Angeles</td>\n",
       "    </tr>\n",
       "    <tr>\n",
       "      <th>3</th>\n",
       "      <td>2011-10-09</td>\n",
       "      <td>ATL</td>\n",
       "      <td>ORD</td>\n",
       "      <td>11.480000</td>\n",
       "      <td>11.169268</td>\n",
       "      <td>7.990202</td>\n",
       "      <td>33.640728</td>\n",
       "      <td>-84.427704</td>\n",
       "      <td>41.974163</td>\n",
       "      <td>-87.907320</td>\n",
       "      <td>974.145965</td>\n",
       "      <td>Atlanta</td>\n",
       "      <td>Chicago</td>\n",
       "    </tr>\n",
       "    <tr>\n",
       "      <th>4</th>\n",
       "      <td>2012-02-21</td>\n",
       "      <td>DEN</td>\n",
       "      <td>SFO</td>\n",
       "      <td>11.450000</td>\n",
       "      <td>11.269364</td>\n",
       "      <td>9.517159</td>\n",
       "      <td>39.856100</td>\n",
       "      <td>-104.673740</td>\n",
       "      <td>37.621310</td>\n",
       "      <td>-122.378950</td>\n",
       "      <td>1556.562600</td>\n",
       "      <td>Denver</td>\n",
       "      <td>San Francisco</td>\n",
       "    </tr>\n",
       "    <tr>\n",
       "      <th>...</th>\n",
       "      <td>...</td>\n",
       "      <td>...</td>\n",
       "      <td>...</td>\n",
       "      <td>...</td>\n",
       "      <td>...</td>\n",
       "      <td>...</td>\n",
       "      <td>...</td>\n",
       "      <td>...</td>\n",
       "      <td>...</td>\n",
       "      <td>...</td>\n",
       "      <td>...</td>\n",
       "      <td>...</td>\n",
       "      <td>...</td>\n",
       "    </tr>\n",
       "    <tr>\n",
       "      <th>8891</th>\n",
       "      <td>2011-11-24</td>\n",
       "      <td>DEN</td>\n",
       "      <td>PHX</td>\n",
       "      <td>11.045455</td>\n",
       "      <td>9.795363</td>\n",
       "      <td>7.791798</td>\n",
       "      <td>39.856100</td>\n",
       "      <td>-104.673740</td>\n",
       "      <td>33.437267</td>\n",
       "      <td>-112.007790</td>\n",
       "      <td>967.511116</td>\n",
       "      <td>Denver</td>\n",
       "      <td>Phoenix</td>\n",
       "    </tr>\n",
       "    <tr>\n",
       "      <th>8892</th>\n",
       "      <td>2012-09-01</td>\n",
       "      <td>ATL</td>\n",
       "      <td>DEN</td>\n",
       "      <td>11.000000</td>\n",
       "      <td>9.429776</td>\n",
       "      <td>7.937254</td>\n",
       "      <td>33.640728</td>\n",
       "      <td>-84.427704</td>\n",
       "      <td>39.856100</td>\n",
       "      <td>-104.673740</td>\n",
       "      <td>1929.754252</td>\n",
       "      <td>Atlanta</td>\n",
       "      <td>Denver</td>\n",
       "    </tr>\n",
       "    <tr>\n",
       "      <th>8893</th>\n",
       "      <td>2012-08-10</td>\n",
       "      <td>ORD</td>\n",
       "      <td>EWR</td>\n",
       "      <td>9.476190</td>\n",
       "      <td>12.029971</td>\n",
       "      <td>6.903760</td>\n",
       "      <td>41.974163</td>\n",
       "      <td>-87.907320</td>\n",
       "      <td>40.689533</td>\n",
       "      <td>-74.174460</td>\n",
       "      <td>1157.147451</td>\n",
       "      <td>Chicago</td>\n",
       "      <td>Newark</td>\n",
       "    </tr>\n",
       "    <tr>\n",
       "      <th>8894</th>\n",
       "      <td>2012-07-03</td>\n",
       "      <td>ORD</td>\n",
       "      <td>IAH</td>\n",
       "      <td>10.250000</td>\n",
       "      <td>9.381645</td>\n",
       "      <td>7.107261</td>\n",
       "      <td>41.974163</td>\n",
       "      <td>-87.907320</td>\n",
       "      <td>29.990220</td>\n",
       "      <td>-95.336784</td>\n",
       "      <td>1487.504532</td>\n",
       "      <td>Chicago</td>\n",
       "      <td>Houston</td>\n",
       "    </tr>\n",
       "    <tr>\n",
       "      <th>8895</th>\n",
       "      <td>2012-02-25</td>\n",
       "      <td>DFW</td>\n",
       "      <td>PHL</td>\n",
       "      <td>6.727273</td>\n",
       "      <td>8.076713</td>\n",
       "      <td>6.388911</td>\n",
       "      <td>32.899810</td>\n",
       "      <td>-97.040340</td>\n",
       "      <td>39.874397</td>\n",
       "      <td>-75.242424</td>\n",
       "      <td>2096.439155</td>\n",
       "      <td>DFW Airport</td>\n",
       "      <td>Philadelphia</td>\n",
       "    </tr>\n",
       "  </tbody>\n",
       "</table>\n",
       "<p>8896 rows × 13 columns</p>\n",
       "</div>"
      ],
      "text/plain": [
       "     flight_date from   to  avg_weeks     target  std_weeks  from_latitude  \\\n",
       "0     2012-06-19  ORD  DFW  12.875000  12.331296   9.812647      41.974163   \n",
       "1     2012-09-10  LAS  DEN  14.285714  10.775182   9.466734      36.084000   \n",
       "2     2012-10-05  DEN  LAX  10.863636  11.083177   9.035883      39.856100   \n",
       "3     2011-10-09  ATL  ORD  11.480000  11.169268   7.990202      33.640728   \n",
       "4     2012-02-21  DEN  SFO  11.450000  11.269364   9.517159      39.856100   \n",
       "...          ...  ...  ...        ...        ...        ...            ...   \n",
       "8891  2011-11-24  DEN  PHX  11.045455   9.795363   7.791798      39.856100   \n",
       "8892  2012-09-01  ATL  DEN  11.000000   9.429776   7.937254      33.640728   \n",
       "8893  2012-08-10  ORD  EWR   9.476190  12.029971   6.903760      41.974163   \n",
       "8894  2012-07-03  ORD  IAH  10.250000   9.381645   7.107261      41.974163   \n",
       "8895  2012-02-25  DFW  PHL   6.727273   8.076713   6.388911      32.899810   \n",
       "\n",
       "      from_longitude  to_latitude  to_longitude     distance    from_city  \\\n",
       "0         -87.907320    32.899810    -97.040340  1289.698532      Chicago   \n",
       "1        -115.153740    39.856100   -104.673740  1010.700812    Las Vegas   \n",
       "2        -104.673740    33.941590   -118.408530  1386.808962       Denver   \n",
       "3         -84.427704    41.974163    -87.907320   974.145965      Atlanta   \n",
       "4        -104.673740    37.621310   -122.378950  1556.562600       Denver   \n",
       "...              ...          ...           ...          ...          ...   \n",
       "8891     -104.673740    33.437267   -112.007790   967.511116       Denver   \n",
       "8892      -84.427704    39.856100   -104.673740  1929.754252      Atlanta   \n",
       "8893      -87.907320    40.689533    -74.174460  1157.147451      Chicago   \n",
       "8894      -87.907320    29.990220    -95.336784  1487.504532      Chicago   \n",
       "8895      -97.040340    39.874397    -75.242424  2096.439155  DFW Airport   \n",
       "\n",
       "            to_city  \n",
       "0       DFW Airport  \n",
       "1            Denver  \n",
       "2       Los Angeles  \n",
       "3           Chicago  \n",
       "4     San Francisco  \n",
       "...             ...  \n",
       "8891        Phoenix  \n",
       "8892         Denver  \n",
       "8893         Newark  \n",
       "8894        Houston  \n",
       "8895   Philadelphia  \n",
       "\n",
       "[8896 rows x 13 columns]"
      ]
     },
     "execution_count": 19,
     "metadata": {},
     "output_type": "execute_result"
    }
   ],
   "source": [
    "df"
   ]
  },
  {
   "cell_type": "code",
   "execution_count": 20,
   "id": "d93676ee",
   "metadata": {},
   "outputs": [
    {
     "name": "stdout",
     "output_type": "stream",
     "text": [
      "<built-in method sort of numpy.ndarray object at 0x000001D6DF4C4C10>\n"
     ]
    }
   ],
   "source": [
    "print(df['flight_date'].unique().sort)"
   ]
  },
  {
   "cell_type": "code",
   "execution_count": null,
   "id": "54f2903a",
   "metadata": {},
   "outputs": [],
   "source": []
  },
  {
   "cell_type": "code",
   "execution_count": 21,
   "id": "395b9595",
   "metadata": {},
   "outputs": [],
   "source": [
    "# df = df.set_index('flight_date')"
   ]
  },
  {
   "cell_type": "markdown",
   "id": "2e1b10d3",
   "metadata": {},
   "source": [
    "#### Pipeline"
   ]
  },
  {
   "cell_type": "code",
   "execution_count": 22,
   "id": "97eb19af",
   "metadata": {},
   "outputs": [],
   "source": [
    "numeric_preprocessor = Pipeline(steps=[(\"scaler\", StandardScaler())])"
   ]
  },
  {
   "cell_type": "code",
   "execution_count": 23,
   "id": "61002d8b",
   "metadata": {},
   "outputs": [],
   "source": [
    "categorical_preprocessor = Pipeline(steps=[(\"onehot\", OneHotEncoder(handle_unknown=\"ignore\"))])"
   ]
  },
  {
   "cell_type": "code",
   "execution_count": 24,
   "id": "fda0d988",
   "metadata": {},
   "outputs": [],
   "source": [
    "preprocessor = ColumnTransformer(\n",
    "    [\n",
    "        (\"categorical\", categorical_preprocessor, [\"from\", \"to\"]),\n",
    "#         (\"numerical\", numeric_preprocessor, [\"avg_weeks\", \"std_weeks\", \"distance\"])\n",
    "    ]\n",
    ")\n",
    "models = ColumnTransformer(\n",
    "    [\n",
    "        (\"rf\", RandomForestRegressor(n_estimators=1400, min_samples_split=10,\n",
    "                                     min_samples_leaf=1, max_features='sqrt', \n",
    "                                     max_depth=60, bootstrap=True)),\n",
    "        (\"svm\", SVR(C=1.0, epsilon=0.2))\n",
    "    ]\n",
    ")"
   ]
  },
  {
   "cell_type": "code",
   "execution_count": 25,
   "id": "b6806f90",
   "metadata": {},
   "outputs": [],
   "source": [
    "# we are going to use pipeline for preprocessing only\n",
    "pipe = Pipeline(steps=[(\"preprocessor\", preprocessor)]) "
   ]
  },
  {
   "cell_type": "code",
   "execution_count": 26,
   "id": "9820094a",
   "metadata": {},
   "outputs": [],
   "source": [
    "rf_model = RandomForestRegressor(n_estimators=1400, min_samples_split=10,\n",
    "                                     min_samples_leaf=1, max_features='sqrt', \n",
    "                                     max_depth=60, bootstrap=True, n_jobs=-1)"
   ]
  },
  {
   "cell_type": "code",
   "execution_count": 27,
   "id": "cabe67bc",
   "metadata": {},
   "outputs": [],
   "source": [
    "xgb_model = XGBRegressor(n_estimators=3000)"
   ]
  },
  {
   "cell_type": "code",
   "execution_count": 28,
   "id": "b37af47b",
   "metadata": {},
   "outputs": [
    {
     "data": {
      "text/html": [
       "<div>\n",
       "<style scoped>\n",
       "    .dataframe tbody tr th:only-of-type {\n",
       "        vertical-align: middle;\n",
       "    }\n",
       "\n",
       "    .dataframe tbody tr th {\n",
       "        vertical-align: top;\n",
       "    }\n",
       "\n",
       "    .dataframe thead th {\n",
       "        text-align: right;\n",
       "    }\n",
       "</style>\n",
       "<table border=\"1\" class=\"dataframe\">\n",
       "  <thead>\n",
       "    <tr style=\"text-align: right;\">\n",
       "      <th></th>\n",
       "      <th>from</th>\n",
       "      <th>to</th>\n",
       "      <th>avg_weeks</th>\n",
       "      <th>target</th>\n",
       "      <th>distance</th>\n",
       "      <th>Average Fare ($)</th>\n",
       "      <th>Inflation Adjusted Average Fare ($) (Base Year: 2021)</th>\n",
       "      <th>2020 Passengers (10% sample)</th>\n",
       "    </tr>\n",
       "  </thead>\n",
       "  <tbody>\n",
       "    <tr>\n",
       "      <th>0</th>\n",
       "      <td>LAS</td>\n",
       "      <td>DEN</td>\n",
       "      <td>14.285714</td>\n",
       "      <td>10.775182</td>\n",
       "      <td>1010.700812</td>\n",
       "      <td>269.623944</td>\n",
       "      <td>312.655018</td>\n",
       "      <td>260905</td>\n",
       "    </tr>\n",
       "    <tr>\n",
       "      <th>1</th>\n",
       "      <td>LAS</td>\n",
       "      <td>JFK</td>\n",
       "      <td>14.035714</td>\n",
       "      <td>11.401869</td>\n",
       "      <td>3617.731717</td>\n",
       "      <td>269.623944</td>\n",
       "      <td>312.655018</td>\n",
       "      <td>260905</td>\n",
       "    </tr>\n",
       "    <tr>\n",
       "      <th>2</th>\n",
       "      <td>LAS</td>\n",
       "      <td>JFK</td>\n",
       "      <td>17.621622</td>\n",
       "      <td>11.121931</td>\n",
       "      <td>3617.731717</td>\n",
       "      <td>269.623944</td>\n",
       "      <td>312.655018</td>\n",
       "      <td>260905</td>\n",
       "    </tr>\n",
       "    <tr>\n",
       "      <th>3</th>\n",
       "      <td>LAS</td>\n",
       "      <td>ORD</td>\n",
       "      <td>12.625000</td>\n",
       "      <td>11.150477</td>\n",
       "      <td>2436.637922</td>\n",
       "      <td>269.623944</td>\n",
       "      <td>312.655018</td>\n",
       "      <td>260905</td>\n",
       "    </tr>\n",
       "    <tr>\n",
       "      <th>4</th>\n",
       "      <td>LAS</td>\n",
       "      <td>LAX</td>\n",
       "      <td>16.617647</td>\n",
       "      <td>11.747388</td>\n",
       "      <td>380.412905</td>\n",
       "      <td>269.623944</td>\n",
       "      <td>312.655018</td>\n",
       "      <td>260905</td>\n",
       "    </tr>\n",
       "    <tr>\n",
       "      <th>...</th>\n",
       "      <td>...</td>\n",
       "      <td>...</td>\n",
       "      <td>...</td>\n",
       "      <td>...</td>\n",
       "      <td>...</td>\n",
       "      <td>...</td>\n",
       "      <td>...</td>\n",
       "      <td>...</td>\n",
       "    </tr>\n",
       "    <tr>\n",
       "      <th>6109</th>\n",
       "      <td>MCO</td>\n",
       "      <td>PHL</td>\n",
       "      <td>14.862069</td>\n",
       "      <td>11.097804</td>\n",
       "      <td>1386.214322</td>\n",
       "      <td>271.096972</td>\n",
       "      <td>320.868370</td>\n",
       "      <td>296484</td>\n",
       "    </tr>\n",
       "    <tr>\n",
       "      <th>6110</th>\n",
       "      <td>MCO</td>\n",
       "      <td>PHL</td>\n",
       "      <td>16.900000</td>\n",
       "      <td>10.722479</td>\n",
       "      <td>1386.214322</td>\n",
       "      <td>271.096972</td>\n",
       "      <td>320.868370</td>\n",
       "      <td>296484</td>\n",
       "    </tr>\n",
       "    <tr>\n",
       "      <th>6111</th>\n",
       "      <td>MCO</td>\n",
       "      <td>ATL</td>\n",
       "      <td>9.761905</td>\n",
       "      <td>11.038594</td>\n",
       "      <td>649.749056</td>\n",
       "      <td>271.096972</td>\n",
       "      <td>320.868370</td>\n",
       "      <td>296484</td>\n",
       "    </tr>\n",
       "    <tr>\n",
       "      <th>6112</th>\n",
       "      <td>MCO</td>\n",
       "      <td>PHL</td>\n",
       "      <td>11.920000</td>\n",
       "      <td>10.488656</td>\n",
       "      <td>1386.214322</td>\n",
       "      <td>271.096972</td>\n",
       "      <td>320.868370</td>\n",
       "      <td>296484</td>\n",
       "    </tr>\n",
       "    <tr>\n",
       "      <th>6113</th>\n",
       "      <td>MCO</td>\n",
       "      <td>ATL</td>\n",
       "      <td>10.826087</td>\n",
       "      <td>12.204237</td>\n",
       "      <td>649.749056</td>\n",
       "      <td>271.096972</td>\n",
       "      <td>320.868370</td>\n",
       "      <td>296484</td>\n",
       "    </tr>\n",
       "  </tbody>\n",
       "</table>\n",
       "<p>6114 rows × 8 columns</p>\n",
       "</div>"
      ],
      "text/plain": [
       "     from   to  avg_weeks     target     distance  Average Fare ($)  \\\n",
       "0     LAS  DEN  14.285714  10.775182  1010.700812        269.623944   \n",
       "1     LAS  JFK  14.035714  11.401869  3617.731717        269.623944   \n",
       "2     LAS  JFK  17.621622  11.121931  3617.731717        269.623944   \n",
       "3     LAS  ORD  12.625000  11.150477  2436.637922        269.623944   \n",
       "4     LAS  LAX  16.617647  11.747388   380.412905        269.623944   \n",
       "...   ...  ...        ...        ...          ...               ...   \n",
       "6109  MCO  PHL  14.862069  11.097804  1386.214322        271.096972   \n",
       "6110  MCO  PHL  16.900000  10.722479  1386.214322        271.096972   \n",
       "6111  MCO  ATL   9.761905  11.038594   649.749056        271.096972   \n",
       "6112  MCO  PHL  11.920000  10.488656  1386.214322        271.096972   \n",
       "6113  MCO  ATL  10.826087  12.204237   649.749056        271.096972   \n",
       "\n",
       "      Inflation Adjusted Average Fare ($) (Base Year: 2021)  \\\n",
       "0                                            312.655018       \n",
       "1                                            312.655018       \n",
       "2                                            312.655018       \n",
       "3                                            312.655018       \n",
       "4                                            312.655018       \n",
       "...                                                 ...       \n",
       "6109                                         320.868370       \n",
       "6110                                         320.868370       \n",
       "6111                                         320.868370       \n",
       "6112                                         320.868370       \n",
       "6113                                         320.868370       \n",
       "\n",
       "      2020 Passengers (10% sample)  \n",
       "0                           260905  \n",
       "1                           260905  \n",
       "2                           260905  \n",
       "3                           260905  \n",
       "4                           260905  \n",
       "...                            ...  \n",
       "6109                        296484  \n",
       "6110                        296484  \n",
       "6111                        296484  \n",
       "6112                        296484  \n",
       "6113                        296484  \n",
       "\n",
       "[6114 rows x 8 columns]"
      ]
     },
     "execution_count": 28,
     "metadata": {},
     "output_type": "execute_result"
    }
   ],
   "source": [
    "df = pd.read_csv('data/super_data.csv')\n",
    "df"
   ]
  },
  {
   "cell_type": "code",
   "execution_count": 37,
   "id": "5da2adf6",
   "metadata": {},
   "outputs": [],
   "source": [
    "y = df.target\n",
    "# X = df.drop(['target', 'flight_date', \"from_city\", \"to_city\"], axis=1)\n",
    "X = df.drop(['target'], axis=1)\n",
    "X_train, X_test, y_train, y_test = train_test_split(X, y, test_size=0.2)"
   ]
  },
  {
   "cell_type": "code",
   "execution_count": 38,
   "id": "bc8cfdbb",
   "metadata": {},
   "outputs": [],
   "source": [
    "X_train_processed = pipe.fit_transform(X_train)\n",
    "X_test_processed = pipe.transform(X_test)\n",
    "\n",
    "# X_processed = pipe.fit_transform(X)\n"
   ]
  },
  {
   "cell_type": "code",
   "execution_count": 39,
   "id": "526fa92e",
   "metadata": {},
   "outputs": [
    {
     "data": {
      "text/plain": [
       "RandomForestRegressor(max_depth=60, max_features='sqrt', min_samples_split=10,\n",
       "                      n_estimators=1400, n_jobs=-1)"
      ]
     },
     "execution_count": 39,
     "metadata": {},
     "output_type": "execute_result"
    }
   ],
   "source": [
    "# fiting rf\n",
    "rf_model.fit(X_train_processed, y_train)\n",
    "# rf_model.fit(X_processed, y)"
   ]
  },
  {
   "cell_type": "code",
   "execution_count": 40,
   "id": "d76dcf8b",
   "metadata": {},
   "outputs": [
    {
     "data": {
      "text/plain": [
       "XGBRegressor(base_score=0.5, booster='gbtree', colsample_bylevel=1,\n",
       "             colsample_bynode=1, colsample_bytree=1, gamma=0, gpu_id=-1,\n",
       "             importance_type='gain', interaction_constraints='',\n",
       "             learning_rate=0.300000012, max_delta_step=0, max_depth=6,\n",
       "             min_child_weight=1, missing=nan, monotone_constraints='()',\n",
       "             n_estimators=3000, n_jobs=8, num_parallel_tree=1, random_state=0,\n",
       "             reg_alpha=0, reg_lambda=1, scale_pos_weight=1, subsample=1,\n",
       "             tree_method='exact', validate_parameters=1, verbosity=None)"
      ]
     },
     "execution_count": 40,
     "metadata": {},
     "output_type": "execute_result"
    }
   ],
   "source": [
    "# fiting xgboost\n",
    "xgb_model.fit(X_train_processed, y_train)\n",
    "# xgb_model.fit(X_processed, y)"
   ]
  },
  {
   "cell_type": "code",
   "execution_count": 41,
   "id": "d8ca0c57",
   "metadata": {},
   "outputs": [
    {
     "data": {
      "text/html": [
       "<div>\n",
       "<style scoped>\n",
       "    .dataframe tbody tr th:only-of-type {\n",
       "        vertical-align: middle;\n",
       "    }\n",
       "\n",
       "    .dataframe tbody tr th {\n",
       "        vertical-align: top;\n",
       "    }\n",
       "\n",
       "    .dataframe thead th {\n",
       "        text-align: right;\n",
       "    }\n",
       "</style>\n",
       "<table border=\"1\" class=\"dataframe\">\n",
       "  <thead>\n",
       "    <tr style=\"text-align: right;\">\n",
       "      <th></th>\n",
       "      <th>from</th>\n",
       "      <th>to</th>\n",
       "      <th>avg_weeks</th>\n",
       "      <th>target</th>\n",
       "      <th>distance</th>\n",
       "      <th>Average Fare ($)</th>\n",
       "      <th>Inflation Adjusted Average Fare ($) (Base Year: 2021)</th>\n",
       "      <th>2020 Passengers (10% sample)</th>\n",
       "    </tr>\n",
       "  </thead>\n",
       "  <tbody>\n",
       "    <tr>\n",
       "      <th>0</th>\n",
       "      <td>LAS</td>\n",
       "      <td>DEN</td>\n",
       "      <td>14.285714</td>\n",
       "      <td>10.775182</td>\n",
       "      <td>1010.700812</td>\n",
       "      <td>269.623944</td>\n",
       "      <td>312.655018</td>\n",
       "      <td>260905</td>\n",
       "    </tr>\n",
       "    <tr>\n",
       "      <th>1</th>\n",
       "      <td>LAS</td>\n",
       "      <td>JFK</td>\n",
       "      <td>14.035714</td>\n",
       "      <td>11.401869</td>\n",
       "      <td>3617.731717</td>\n",
       "      <td>269.623944</td>\n",
       "      <td>312.655018</td>\n",
       "      <td>260905</td>\n",
       "    </tr>\n",
       "    <tr>\n",
       "      <th>2</th>\n",
       "      <td>LAS</td>\n",
       "      <td>JFK</td>\n",
       "      <td>17.621622</td>\n",
       "      <td>11.121931</td>\n",
       "      <td>3617.731717</td>\n",
       "      <td>269.623944</td>\n",
       "      <td>312.655018</td>\n",
       "      <td>260905</td>\n",
       "    </tr>\n",
       "    <tr>\n",
       "      <th>3</th>\n",
       "      <td>LAS</td>\n",
       "      <td>ORD</td>\n",
       "      <td>12.625000</td>\n",
       "      <td>11.150477</td>\n",
       "      <td>2436.637922</td>\n",
       "      <td>269.623944</td>\n",
       "      <td>312.655018</td>\n",
       "      <td>260905</td>\n",
       "    </tr>\n",
       "    <tr>\n",
       "      <th>4</th>\n",
       "      <td>LAS</td>\n",
       "      <td>LAX</td>\n",
       "      <td>16.617647</td>\n",
       "      <td>11.747388</td>\n",
       "      <td>380.412905</td>\n",
       "      <td>269.623944</td>\n",
       "      <td>312.655018</td>\n",
       "      <td>260905</td>\n",
       "    </tr>\n",
       "    <tr>\n",
       "      <th>...</th>\n",
       "      <td>...</td>\n",
       "      <td>...</td>\n",
       "      <td>...</td>\n",
       "      <td>...</td>\n",
       "      <td>...</td>\n",
       "      <td>...</td>\n",
       "      <td>...</td>\n",
       "      <td>...</td>\n",
       "    </tr>\n",
       "    <tr>\n",
       "      <th>6109</th>\n",
       "      <td>MCO</td>\n",
       "      <td>PHL</td>\n",
       "      <td>14.862069</td>\n",
       "      <td>11.097804</td>\n",
       "      <td>1386.214322</td>\n",
       "      <td>271.096972</td>\n",
       "      <td>320.868370</td>\n",
       "      <td>296484</td>\n",
       "    </tr>\n",
       "    <tr>\n",
       "      <th>6110</th>\n",
       "      <td>MCO</td>\n",
       "      <td>PHL</td>\n",
       "      <td>16.900000</td>\n",
       "      <td>10.722479</td>\n",
       "      <td>1386.214322</td>\n",
       "      <td>271.096972</td>\n",
       "      <td>320.868370</td>\n",
       "      <td>296484</td>\n",
       "    </tr>\n",
       "    <tr>\n",
       "      <th>6111</th>\n",
       "      <td>MCO</td>\n",
       "      <td>ATL</td>\n",
       "      <td>9.761905</td>\n",
       "      <td>11.038594</td>\n",
       "      <td>649.749056</td>\n",
       "      <td>271.096972</td>\n",
       "      <td>320.868370</td>\n",
       "      <td>296484</td>\n",
       "    </tr>\n",
       "    <tr>\n",
       "      <th>6112</th>\n",
       "      <td>MCO</td>\n",
       "      <td>PHL</td>\n",
       "      <td>11.920000</td>\n",
       "      <td>10.488656</td>\n",
       "      <td>1386.214322</td>\n",
       "      <td>271.096972</td>\n",
       "      <td>320.868370</td>\n",
       "      <td>296484</td>\n",
       "    </tr>\n",
       "    <tr>\n",
       "      <th>6113</th>\n",
       "      <td>MCO</td>\n",
       "      <td>ATL</td>\n",
       "      <td>10.826087</td>\n",
       "      <td>12.204237</td>\n",
       "      <td>649.749056</td>\n",
       "      <td>271.096972</td>\n",
       "      <td>320.868370</td>\n",
       "      <td>296484</td>\n",
       "    </tr>\n",
       "  </tbody>\n",
       "</table>\n",
       "<p>6114 rows × 8 columns</p>\n",
       "</div>"
      ],
      "text/plain": [
       "     from   to  avg_weeks     target     distance  Average Fare ($)  \\\n",
       "0     LAS  DEN  14.285714  10.775182  1010.700812        269.623944   \n",
       "1     LAS  JFK  14.035714  11.401869  3617.731717        269.623944   \n",
       "2     LAS  JFK  17.621622  11.121931  3617.731717        269.623944   \n",
       "3     LAS  ORD  12.625000  11.150477  2436.637922        269.623944   \n",
       "4     LAS  LAX  16.617647  11.747388   380.412905        269.623944   \n",
       "...   ...  ...        ...        ...          ...               ...   \n",
       "6109  MCO  PHL  14.862069  11.097804  1386.214322        271.096972   \n",
       "6110  MCO  PHL  16.900000  10.722479  1386.214322        271.096972   \n",
       "6111  MCO  ATL   9.761905  11.038594   649.749056        271.096972   \n",
       "6112  MCO  PHL  11.920000  10.488656  1386.214322        271.096972   \n",
       "6113  MCO  ATL  10.826087  12.204237   649.749056        271.096972   \n",
       "\n",
       "      Inflation Adjusted Average Fare ($) (Base Year: 2021)  \\\n",
       "0                                            312.655018       \n",
       "1                                            312.655018       \n",
       "2                                            312.655018       \n",
       "3                                            312.655018       \n",
       "4                                            312.655018       \n",
       "...                                                 ...       \n",
       "6109                                         320.868370       \n",
       "6110                                         320.868370       \n",
       "6111                                         320.868370       \n",
       "6112                                         320.868370       \n",
       "6113                                         320.868370       \n",
       "\n",
       "      2020 Passengers (10% sample)  \n",
       "0                           260905  \n",
       "1                           260905  \n",
       "2                           260905  \n",
       "3                           260905  \n",
       "4                           260905  \n",
       "...                            ...  \n",
       "6109                        296484  \n",
       "6110                        296484  \n",
       "6111                        296484  \n",
       "6112                        296484  \n",
       "6113                        296484  \n",
       "\n",
       "[6114 rows x 8 columns]"
      ]
     },
     "execution_count": 41,
     "metadata": {},
     "output_type": "execute_result"
    }
   ],
   "source": [
    "df"
   ]
  },
  {
   "cell_type": "code",
   "execution_count": 42,
   "id": "a89585fd",
   "metadata": {},
   "outputs": [],
   "source": [
    "# # rf prediction\n",
    "y_rf_pred = rf_model.predict(X_test_processed)\n",
    "\n",
    "# # xgb prediction\n",
    "y_xgb_pred = xgb_model.predict(X_test_processed)"
   ]
  },
  {
   "cell_type": "code",
   "execution_count": 43,
   "id": "5502101e",
   "metadata": {},
   "outputs": [],
   "source": [
    "y_pred = blender([y_rf_pred, y_xgb_pred])"
   ]
  },
  {
   "cell_type": "code",
   "execution_count": 44,
   "id": "17c084f9",
   "metadata": {
    "scrolled": true
   },
   "outputs": [
    {
     "data": {
      "text/plain": [
       "0.6794154365255205"
      ]
     },
     "execution_count": 44,
     "metadata": {},
     "output_type": "execute_result"
    }
   ],
   "source": [
    "mse(y_test, y_pred)**0.5"
   ]
  },
  {
   "cell_type": "code",
   "execution_count": null,
   "id": "aa680e3d",
   "metadata": {},
   "outputs": [],
   "source": []
  },
  {
   "cell_type": "code",
   "execution_count": null,
   "id": "8f0b1a3f",
   "metadata": {},
   "outputs": [],
   "source": [
    "# Number of trees in random forest\n",
    "n_estimators = [int(x) for x in np.linspace(start = 200, stop = 2000, num = 10)]\n",
    "# Number of features to consider at every split\n",
    "max_features = ['auto', 'sqrt']\n",
    "# Maximum number of levels in tree\n",
    "max_depth = [int(x) for x in np.linspace(10, 110, num = 11)]\n",
    "max_depth.append(None)\n",
    "# Minimum number of samples required to split a node\n",
    "min_samples_split = [2, 5, 10]\n",
    "# Minimum number of samples required at each leaf node\n",
    "min_samples_leaf = [1, 2, 4]\n",
    "# Method of selecting samples for training each tree\n",
    "bootstrap = [True, False]\n",
    "# Create the random grid\n",
    "param_grid = {'regressor__n_estimators': n_estimators,\n",
    "               'regressor__max_features': max_features,\n",
    "               'regressor__max_depth': max_depth,\n",
    "               'regressor__min_samples_split': min_samples_split,\n",
    "               'regressor__min_samples_leaf': min_samples_leaf,\n",
    "               'regressor__bootstrap': bootstrap}\n",
    "\n",
    "grid_search = RandomizedSearchCV(estimator = pipe, param_distributions = param_grid, n_iter = 100,\n",
    "                          cv = 5, verbose = 2)"
   ]
  },
  {
   "cell_type": "code",
   "execution_count": null,
   "id": "49eab777",
   "metadata": {
    "scrolled": true
   },
   "outputs": [],
   "source": [
    "# grid_search.fit(X_train, y_train)"
   ]
  },
  {
   "cell_type": "code",
   "execution_count": null,
   "id": "8f9f477e",
   "metadata": {},
   "outputs": [],
   "source": [
    "# grid_search.best_params_"
   ]
  },
  {
   "cell_type": "code",
   "execution_count": null,
   "id": "ec6a18b4",
   "metadata": {},
   "outputs": [],
   "source": []
  },
  {
   "cell_type": "markdown",
   "id": "146fae4b",
   "metadata": {},
   "source": [
    "#### Submission"
   ]
  },
  {
   "cell_type": "code",
   "execution_count": null,
   "id": "563c058f",
   "metadata": {},
   "outputs": [],
   "source": [
    "\"\"\" save the new dataframe that containe metadata \"\"\"\n",
    "# df.to_csv('data/train_with_city.csv', index=False)\n",
    "# df_sub.to_csv('data/test_with_city.csv', index=False)"
   ]
  },
  {
   "cell_type": "code",
   "execution_count": null,
   "id": "f5528722",
   "metadata": {},
   "outputs": [],
   "source": [
    "# pd.read_csv('data/train_with_city.csv')"
   ]
  },
  {
   "cell_type": "code",
   "execution_count": null,
   "id": "b6f067af",
   "metadata": {},
   "outputs": [],
   "source": [
    "df_sub = df_sub.drop(['flight_date', \"from_city\", \"to_city\", \"to_country\", \"from_country\"], axis=1)\n"
   ]
  },
  {
   "cell_type": "code",
   "execution_count": null,
   "id": "b4271671",
   "metadata": {},
   "outputs": [],
   "source": [
    "df"
   ]
  },
  {
   "cell_type": "code",
   "execution_count": null,
   "id": "a6aca5cb",
   "metadata": {},
   "outputs": [],
   "source": [
    "df_sub"
   ]
  },
  {
   "cell_type": "code",
   "execution_count": null,
   "id": "7864e46a",
   "metadata": {},
   "outputs": [],
   "source": [
    "df_sub = pipe.transform(df_sub)"
   ]
  },
  {
   "cell_type": "code",
   "execution_count": null,
   "id": "19da4fae",
   "metadata": {},
   "outputs": [],
   "source": [
    "y_rf_sub = rf_model.predict(df_sub)\n",
    "y_xgb_sub = xgb_model.predict(df_sub)"
   ]
  },
  {
   "cell_type": "code",
   "execution_count": null,
   "id": "5c179a2e",
   "metadata": {},
   "outputs": [],
   "source": [
    "# df_sub = df_sub.drop(['flight_date', 'from_country', 'to_country'], axis=1)\n",
    "submition = pd.DataFrame(blender([y_rf_sub, y_xgb_sub]))"
   ]
  },
  {
   "cell_type": "code",
   "execution_count": null,
   "id": "cae3f6f3",
   "metadata": {},
   "outputs": [],
   "source": [
    "path = 'submition_' + datetime.now().strftime('%Y-%m-%d_%H-%M-%S') + '.csv'\n",
    "submition.to_csv(path, index=False, header=False)"
   ]
  },
  {
   "cell_type": "code",
   "execution_count": null,
   "id": "ea9f6c09",
   "metadata": {},
   "outputs": [],
   "source": [
    "fare_2012 = pd.read_excel('./data/AverageFareAnnual2012.xlsx')\n",
    "fare_2011 = pd.read_excel('./data/AverageFareAnnual2011.xlsx')\n",
    "fare_2012['year'] = 2012\n",
    "fare_2011['year'] = 2011\n",
    "fare_2012.info()"
   ]
  },
  {
   "cell_type": "code",
   "execution_count": null,
   "id": "08ab0182",
   "metadata": {},
   "outputs": [],
   "source": [
    "for city_df in df[df['year'] == 2012]['from'].unique():\n",
    "    if city_df not in fare_2012['Airport Code'].unique():\n",
    "        print(city_df)\n",
    "        "
   ]
  },
  {
   "cell_type": "code",
   "execution_count": null,
   "id": "513568ac",
   "metadata": {},
   "outputs": [],
   "source": [
    "fare_2012[fare_2012['City Name'] == 'Chicago']"
   ]
  },
  {
   "cell_type": "code",
   "execution_count": null,
   "id": "c9d86b99",
   "metadata": {
    "scrolled": true
   },
   "outputs": [],
   "source": [
    "df['year'] = pd.DatetimeIndex(df['flight_date']).year\n",
    "df"
   ]
  },
  {
   "cell_type": "code",
   "execution_count": null,
   "id": "cdd92532",
   "metadata": {
    "scrolled": true
   },
   "outputs": [],
   "source": [
    "concatenat = pd.concat([fare_2011, fare_2012])\n",
    "concatenat = concatenat.reset_index()\n",
    "concatenat"
   ]
  },
  {
   "cell_type": "code",
   "execution_count": null,
   "id": "f8f86020",
   "metadata": {},
   "outputs": [],
   "source": []
  },
  {
   "cell_type": "code",
   "execution_count": null,
   "id": "f047b93b",
   "metadata": {},
   "outputs": [],
   "source": [
    "merged_df = df.merge(concatenat, left_on=['from', 'year'], right_on=['Airport Code', 'year'], how='left')\n",
    "merged_df"
   ]
  },
  {
   "cell_type": "code",
   "execution_count": null,
   "id": "1c1812e6",
   "metadata": {},
   "outputs": [],
   "source": [
    "super_data_exemple = merged_df[['from', 'to', 'avg_weeks', 'target', 'distance', 'Average Fare ($)', 'Inflation Adjusted Average Fare ($) (Base Year: 2021)', '2020 Passengers (10% sample)']]"
   ]
  },
  {
   "cell_type": "code",
   "execution_count": null,
   "id": "a41845db",
   "metadata": {},
   "outputs": [],
   "source": [
    "# super_data_exemple.to_csv('data/super_data.csv', index=False)"
   ]
  },
  {
   "cell_type": "code",
   "execution_count": null,
   "id": "0eb9db0e",
   "metadata": {},
   "outputs": [],
   "source": [
    "df.shape"
   ]
  },
  {
   "cell_type": "code",
   "execution_count": null,
   "id": "70f89d93",
   "metadata": {},
   "outputs": [],
   "source": []
  }
 ],
 "metadata": {
  "kernelspec": {
   "display_name": "Python 3",
   "language": "python",
   "name": "python3"
  },
  "language_info": {
   "codemirror_mode": {
    "name": "ipython",
    "version": 3
   },
   "file_extension": ".py",
   "mimetype": "text/x-python",
   "name": "python",
   "nbconvert_exporter": "python",
   "pygments_lexer": "ipython3",
   "version": "3.8.8"
  }
 },
 "nbformat": 4,
 "nbformat_minor": 5
}
