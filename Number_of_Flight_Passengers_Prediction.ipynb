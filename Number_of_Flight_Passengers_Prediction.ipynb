{
 "cells": [
  {
   "cell_type": "code",
   "execution_count": 6,
   "metadata": {
    "colab": {
     "base_uri": "https://localhost:8080/"
    },
    "id": "MiiJKlqFVrDA",
    "outputId": "bc4f5e88-99d6-48d4-dac8-9195731c8a54"
   },
   "outputs": [],
   "source": [
    "# from google.colab import drive\n",
    "# drive.mount('/content/drive/')"
   ]
  },
  {
   "cell_type": "code",
   "execution_count": 7,
   "metadata": {
    "id": "iQJc_XdDa6r_"
   },
   "outputs": [],
   "source": [
    "import pandas as pd\n",
    "import numpy as np"
   ]
  },
  {
   "cell_type": "code",
   "execution_count": 8,
   "metadata": {
    "colab": {
     "base_uri": "https://localhost:8080/",
     "height": 206
    },
    "id": "xyzLJ8ZGax9Z",
    "outputId": "67915bee-b9b0-4481-cf73-0c7039fd2bda"
   },
   "outputs": [
    {
     "data": {
      "text/html": [
       "<div>\n",
       "<style scoped>\n",
       "    .dataframe tbody tr th:only-of-type {\n",
       "        vertical-align: middle;\n",
       "    }\n",
       "\n",
       "    .dataframe tbody tr th {\n",
       "        vertical-align: top;\n",
       "    }\n",
       "\n",
       "    .dataframe thead th {\n",
       "        text-align: right;\n",
       "    }\n",
       "</style>\n",
       "<table border=\"1\" class=\"dataframe\">\n",
       "  <thead>\n",
       "    <tr style=\"text-align: right;\">\n",
       "      <th></th>\n",
       "      <th>flight_date</th>\n",
       "      <th>from</th>\n",
       "      <th>to</th>\n",
       "      <th>avg_weeks</th>\n",
       "      <th>target</th>\n",
       "      <th>std_weeks</th>\n",
       "    </tr>\n",
       "  </thead>\n",
       "  <tbody>\n",
       "    <tr>\n",
       "      <th>0</th>\n",
       "      <td>2012-06-19</td>\n",
       "      <td>ORD</td>\n",
       "      <td>DFW</td>\n",
       "      <td>12.875000</td>\n",
       "      <td>12.331296</td>\n",
       "      <td>9.812647</td>\n",
       "    </tr>\n",
       "    <tr>\n",
       "      <th>1</th>\n",
       "      <td>2012-09-10</td>\n",
       "      <td>LAS</td>\n",
       "      <td>DEN</td>\n",
       "      <td>14.285714</td>\n",
       "      <td>10.775182</td>\n",
       "      <td>9.466734</td>\n",
       "    </tr>\n",
       "    <tr>\n",
       "      <th>2</th>\n",
       "      <td>2012-10-05</td>\n",
       "      <td>DEN</td>\n",
       "      <td>LAX</td>\n",
       "      <td>10.863636</td>\n",
       "      <td>11.083177</td>\n",
       "      <td>9.035883</td>\n",
       "    </tr>\n",
       "    <tr>\n",
       "      <th>3</th>\n",
       "      <td>2011-10-09</td>\n",
       "      <td>ATL</td>\n",
       "      <td>ORD</td>\n",
       "      <td>11.480000</td>\n",
       "      <td>11.169268</td>\n",
       "      <td>7.990202</td>\n",
       "    </tr>\n",
       "    <tr>\n",
       "      <th>4</th>\n",
       "      <td>2012-02-21</td>\n",
       "      <td>DEN</td>\n",
       "      <td>SFO</td>\n",
       "      <td>11.450000</td>\n",
       "      <td>11.269364</td>\n",
       "      <td>9.517159</td>\n",
       "    </tr>\n",
       "  </tbody>\n",
       "</table>\n",
       "</div>"
      ],
      "text/plain": [
       "  flight_date from   to  avg_weeks     target  std_weeks\n",
       "0  2012-06-19  ORD  DFW  12.875000  12.331296   9.812647\n",
       "1  2012-09-10  LAS  DEN  14.285714  10.775182   9.466734\n",
       "2  2012-10-05  DEN  LAX  10.863636  11.083177   9.035883\n",
       "3  2011-10-09  ATL  ORD  11.480000  11.169268   7.990202\n",
       "4  2012-02-21  DEN  SFO  11.450000  11.269364   9.517159"
      ]
     },
     "execution_count": 8,
     "metadata": {},
     "output_type": "execute_result"
    }
   ],
   "source": [
    "#Generate the dataset\n",
    "df = pd.read_csv('data/flights_train.csv.bz2')\n",
    "df.head()"
   ]
  },
  {
   "cell_type": "code",
   "execution_count": 9,
   "metadata": {
    "colab": {
     "base_uri": "https://localhost:8080/"
    },
    "id": "8nkoQknlbnq7",
    "outputId": "8c98bd2b-0efb-49b1-afad-64bbc9909656"
   },
   "outputs": [
    {
     "data": {
      "text/plain": [
       "flight_date     object\n",
       "from            object\n",
       "to              object\n",
       "avg_weeks      float64\n",
       "target         float64\n",
       "std_weeks      float64\n",
       "dtype: object"
      ]
     },
     "execution_count": 9,
     "metadata": {},
     "output_type": "execute_result"
    }
   ],
   "source": [
    "#Type of the features\n",
    "df.dtypes"
   ]
  },
  {
   "cell_type": "code",
   "execution_count": 10,
   "metadata": {
    "colab": {
     "base_uri": "https://localhost:8080/",
     "height": 270
    },
    "id": "AhYow4VMieLX",
    "outputId": "063ea12f-5d44-481f-d45e-5732e0186808"
   },
   "outputs": [
    {
     "data": {
      "text/html": [
       "<div>\n",
       "<style scoped>\n",
       "    .dataframe tbody tr th:only-of-type {\n",
       "        vertical-align: middle;\n",
       "    }\n",
       "\n",
       "    .dataframe tbody tr th {\n",
       "        vertical-align: top;\n",
       "    }\n",
       "\n",
       "    .dataframe thead th {\n",
       "        text-align: right;\n",
       "    }\n",
       "</style>\n",
       "<table border=\"1\" class=\"dataframe\">\n",
       "  <thead>\n",
       "    <tr style=\"text-align: right;\">\n",
       "      <th></th>\n",
       "      <th>flight_date</th>\n",
       "      <th>avg_weeks</th>\n",
       "      <th>target</th>\n",
       "      <th>std_weeks</th>\n",
       "      <th>from_ATL</th>\n",
       "      <th>from_BOS</th>\n",
       "      <th>from_CLT</th>\n",
       "      <th>from_DEN</th>\n",
       "      <th>from_DFW</th>\n",
       "      <th>from_DTW</th>\n",
       "      <th>...</th>\n",
       "      <th>to_LAX</th>\n",
       "      <th>to_LGA</th>\n",
       "      <th>to_MCO</th>\n",
       "      <th>to_MIA</th>\n",
       "      <th>to_MSP</th>\n",
       "      <th>to_ORD</th>\n",
       "      <th>to_PHL</th>\n",
       "      <th>to_PHX</th>\n",
       "      <th>to_SEA</th>\n",
       "      <th>to_SFO</th>\n",
       "    </tr>\n",
       "  </thead>\n",
       "  <tbody>\n",
       "    <tr>\n",
       "      <th>0</th>\n",
       "      <td>2012-06-19</td>\n",
       "      <td>12.875000</td>\n",
       "      <td>12.331296</td>\n",
       "      <td>9.812647</td>\n",
       "      <td>0</td>\n",
       "      <td>0</td>\n",
       "      <td>0</td>\n",
       "      <td>0</td>\n",
       "      <td>0</td>\n",
       "      <td>0</td>\n",
       "      <td>...</td>\n",
       "      <td>0</td>\n",
       "      <td>0</td>\n",
       "      <td>0</td>\n",
       "      <td>0</td>\n",
       "      <td>0</td>\n",
       "      <td>0</td>\n",
       "      <td>0</td>\n",
       "      <td>0</td>\n",
       "      <td>0</td>\n",
       "      <td>0</td>\n",
       "    </tr>\n",
       "    <tr>\n",
       "      <th>1</th>\n",
       "      <td>2012-09-10</td>\n",
       "      <td>14.285714</td>\n",
       "      <td>10.775182</td>\n",
       "      <td>9.466734</td>\n",
       "      <td>0</td>\n",
       "      <td>0</td>\n",
       "      <td>0</td>\n",
       "      <td>0</td>\n",
       "      <td>0</td>\n",
       "      <td>0</td>\n",
       "      <td>...</td>\n",
       "      <td>0</td>\n",
       "      <td>0</td>\n",
       "      <td>0</td>\n",
       "      <td>0</td>\n",
       "      <td>0</td>\n",
       "      <td>0</td>\n",
       "      <td>0</td>\n",
       "      <td>0</td>\n",
       "      <td>0</td>\n",
       "      <td>0</td>\n",
       "    </tr>\n",
       "    <tr>\n",
       "      <th>2</th>\n",
       "      <td>2012-10-05</td>\n",
       "      <td>10.863636</td>\n",
       "      <td>11.083177</td>\n",
       "      <td>9.035883</td>\n",
       "      <td>0</td>\n",
       "      <td>0</td>\n",
       "      <td>0</td>\n",
       "      <td>1</td>\n",
       "      <td>0</td>\n",
       "      <td>0</td>\n",
       "      <td>...</td>\n",
       "      <td>1</td>\n",
       "      <td>0</td>\n",
       "      <td>0</td>\n",
       "      <td>0</td>\n",
       "      <td>0</td>\n",
       "      <td>0</td>\n",
       "      <td>0</td>\n",
       "      <td>0</td>\n",
       "      <td>0</td>\n",
       "      <td>0</td>\n",
       "    </tr>\n",
       "    <tr>\n",
       "      <th>3</th>\n",
       "      <td>2011-10-09</td>\n",
       "      <td>11.480000</td>\n",
       "      <td>11.169268</td>\n",
       "      <td>7.990202</td>\n",
       "      <td>1</td>\n",
       "      <td>0</td>\n",
       "      <td>0</td>\n",
       "      <td>0</td>\n",
       "      <td>0</td>\n",
       "      <td>0</td>\n",
       "      <td>...</td>\n",
       "      <td>0</td>\n",
       "      <td>0</td>\n",
       "      <td>0</td>\n",
       "      <td>0</td>\n",
       "      <td>0</td>\n",
       "      <td>1</td>\n",
       "      <td>0</td>\n",
       "      <td>0</td>\n",
       "      <td>0</td>\n",
       "      <td>0</td>\n",
       "    </tr>\n",
       "    <tr>\n",
       "      <th>4</th>\n",
       "      <td>2012-02-21</td>\n",
       "      <td>11.450000</td>\n",
       "      <td>11.269364</td>\n",
       "      <td>9.517159</td>\n",
       "      <td>0</td>\n",
       "      <td>0</td>\n",
       "      <td>0</td>\n",
       "      <td>1</td>\n",
       "      <td>0</td>\n",
       "      <td>0</td>\n",
       "      <td>...</td>\n",
       "      <td>0</td>\n",
       "      <td>0</td>\n",
       "      <td>0</td>\n",
       "      <td>0</td>\n",
       "      <td>0</td>\n",
       "      <td>0</td>\n",
       "      <td>0</td>\n",
       "      <td>0</td>\n",
       "      <td>0</td>\n",
       "      <td>1</td>\n",
       "    </tr>\n",
       "  </tbody>\n",
       "</table>\n",
       "<p>5 rows × 44 columns</p>\n",
       "</div>"
      ],
      "text/plain": [
       "  flight_date  avg_weeks     target  std_weeks  from_ATL  from_BOS  from_CLT  \\\n",
       "0  2012-06-19  12.875000  12.331296   9.812647         0         0         0   \n",
       "1  2012-09-10  14.285714  10.775182   9.466734         0         0         0   \n",
       "2  2012-10-05  10.863636  11.083177   9.035883         0         0         0   \n",
       "3  2011-10-09  11.480000  11.169268   7.990202         1         0         0   \n",
       "4  2012-02-21  11.450000  11.269364   9.517159         0         0         0   \n",
       "\n",
       "   from_DEN  from_DFW  from_DTW  ...  to_LAX  to_LGA  to_MCO  to_MIA  to_MSP  \\\n",
       "0         0         0         0  ...       0       0       0       0       0   \n",
       "1         0         0         0  ...       0       0       0       0       0   \n",
       "2         1         0         0  ...       1       0       0       0       0   \n",
       "3         0         0         0  ...       0       0       0       0       0   \n",
       "4         1         0         0  ...       0       0       0       0       0   \n",
       "\n",
       "   to_ORD  to_PHL  to_PHX  to_SEA  to_SFO  \n",
       "0       0       0       0       0       0  \n",
       "1       0       0       0       0       0  \n",
       "2       0       0       0       0       0  \n",
       "3       1       0       0       0       0  \n",
       "4       0       0       0       0       1  \n",
       "\n",
       "[5 rows x 44 columns]"
      ]
     },
     "execution_count": 10,
     "metadata": {},
     "output_type": "execute_result"
    }
   ],
   "source": [
    "#Encode categorical variables\n",
    "df = pd.get_dummies(data=df, columns=['from', 'to'])\n",
    "df.head()"
   ]
  },
  {
   "cell_type": "code",
   "execution_count": 11,
   "metadata": {
    "id": "JbqquR8vgRxn"
   },
   "outputs": [],
   "source": [
    "#Convert flight_date type to datetime\n",
    "df['flight_date'] = df['flight_date'].apply(pd.to_datetime)"
   ]
  },
  {
   "cell_type": "code",
   "execution_count": 12,
   "metadata": {
    "id": "boU9cZw5eBZA"
   },
   "outputs": [],
   "source": [
    "#Convert flight_date to new columns: year, month and day\n",
    "df['year'] = pd.DatetimeIndex(df['flight_date']).year\n",
    "df['month'] = pd.DatetimeIndex(df['flight_date']).month\n",
    "df['day'] = pd.DatetimeIndex(df['flight_date']).day"
   ]
  },
  {
   "cell_type": "code",
   "execution_count": 13,
   "metadata": {
    "colab": {
     "base_uri": "https://localhost:8080/",
     "height": 299
    },
    "id": "HPyzO468hXhu",
    "outputId": "7f237537-15fd-441a-f76c-9db932c1918e"
   },
   "outputs": [
    {
     "data": {
      "text/html": [
       "<div>\n",
       "<style scoped>\n",
       "    .dataframe tbody tr th:only-of-type {\n",
       "        vertical-align: middle;\n",
       "    }\n",
       "\n",
       "    .dataframe tbody tr th {\n",
       "        vertical-align: top;\n",
       "    }\n",
       "\n",
       "    .dataframe thead th {\n",
       "        text-align: right;\n",
       "    }\n",
       "</style>\n",
       "<table border=\"1\" class=\"dataframe\">\n",
       "  <thead>\n",
       "    <tr style=\"text-align: right;\">\n",
       "      <th></th>\n",
       "      <th>flight_date</th>\n",
       "      <th>avg_weeks</th>\n",
       "      <th>target</th>\n",
       "      <th>std_weeks</th>\n",
       "      <th>from_ATL</th>\n",
       "      <th>from_BOS</th>\n",
       "      <th>from_CLT</th>\n",
       "      <th>from_DEN</th>\n",
       "      <th>from_DFW</th>\n",
       "      <th>from_DTW</th>\n",
       "      <th>...</th>\n",
       "      <th>day_22</th>\n",
       "      <th>day_23</th>\n",
       "      <th>day_24</th>\n",
       "      <th>day_25</th>\n",
       "      <th>day_26</th>\n",
       "      <th>day_27</th>\n",
       "      <th>day_28</th>\n",
       "      <th>day_29</th>\n",
       "      <th>day_30</th>\n",
       "      <th>day_31</th>\n",
       "    </tr>\n",
       "  </thead>\n",
       "  <tbody>\n",
       "    <tr>\n",
       "      <th>0</th>\n",
       "      <td>2012-06-19</td>\n",
       "      <td>12.875000</td>\n",
       "      <td>12.331296</td>\n",
       "      <td>9.812647</td>\n",
       "      <td>0</td>\n",
       "      <td>0</td>\n",
       "      <td>0</td>\n",
       "      <td>0</td>\n",
       "      <td>0</td>\n",
       "      <td>0</td>\n",
       "      <td>...</td>\n",
       "      <td>0</td>\n",
       "      <td>0</td>\n",
       "      <td>0</td>\n",
       "      <td>0</td>\n",
       "      <td>0</td>\n",
       "      <td>0</td>\n",
       "      <td>0</td>\n",
       "      <td>0</td>\n",
       "      <td>0</td>\n",
       "      <td>0</td>\n",
       "    </tr>\n",
       "    <tr>\n",
       "      <th>1</th>\n",
       "      <td>2012-09-10</td>\n",
       "      <td>14.285714</td>\n",
       "      <td>10.775182</td>\n",
       "      <td>9.466734</td>\n",
       "      <td>0</td>\n",
       "      <td>0</td>\n",
       "      <td>0</td>\n",
       "      <td>0</td>\n",
       "      <td>0</td>\n",
       "      <td>0</td>\n",
       "      <td>...</td>\n",
       "      <td>0</td>\n",
       "      <td>0</td>\n",
       "      <td>0</td>\n",
       "      <td>0</td>\n",
       "      <td>0</td>\n",
       "      <td>0</td>\n",
       "      <td>0</td>\n",
       "      <td>0</td>\n",
       "      <td>0</td>\n",
       "      <td>0</td>\n",
       "    </tr>\n",
       "    <tr>\n",
       "      <th>2</th>\n",
       "      <td>2012-10-05</td>\n",
       "      <td>10.863636</td>\n",
       "      <td>11.083177</td>\n",
       "      <td>9.035883</td>\n",
       "      <td>0</td>\n",
       "      <td>0</td>\n",
       "      <td>0</td>\n",
       "      <td>1</td>\n",
       "      <td>0</td>\n",
       "      <td>0</td>\n",
       "      <td>...</td>\n",
       "      <td>0</td>\n",
       "      <td>0</td>\n",
       "      <td>0</td>\n",
       "      <td>0</td>\n",
       "      <td>0</td>\n",
       "      <td>0</td>\n",
       "      <td>0</td>\n",
       "      <td>0</td>\n",
       "      <td>0</td>\n",
       "      <td>0</td>\n",
       "    </tr>\n",
       "    <tr>\n",
       "      <th>3</th>\n",
       "      <td>2011-10-09</td>\n",
       "      <td>11.480000</td>\n",
       "      <td>11.169268</td>\n",
       "      <td>7.990202</td>\n",
       "      <td>1</td>\n",
       "      <td>0</td>\n",
       "      <td>0</td>\n",
       "      <td>0</td>\n",
       "      <td>0</td>\n",
       "      <td>0</td>\n",
       "      <td>...</td>\n",
       "      <td>0</td>\n",
       "      <td>0</td>\n",
       "      <td>0</td>\n",
       "      <td>0</td>\n",
       "      <td>0</td>\n",
       "      <td>0</td>\n",
       "      <td>0</td>\n",
       "      <td>0</td>\n",
       "      <td>0</td>\n",
       "      <td>0</td>\n",
       "    </tr>\n",
       "    <tr>\n",
       "      <th>4</th>\n",
       "      <td>2012-02-21</td>\n",
       "      <td>11.450000</td>\n",
       "      <td>11.269364</td>\n",
       "      <td>9.517159</td>\n",
       "      <td>0</td>\n",
       "      <td>0</td>\n",
       "      <td>0</td>\n",
       "      <td>1</td>\n",
       "      <td>0</td>\n",
       "      <td>0</td>\n",
       "      <td>...</td>\n",
       "      <td>0</td>\n",
       "      <td>0</td>\n",
       "      <td>0</td>\n",
       "      <td>0</td>\n",
       "      <td>0</td>\n",
       "      <td>0</td>\n",
       "      <td>0</td>\n",
       "      <td>0</td>\n",
       "      <td>0</td>\n",
       "      <td>0</td>\n",
       "    </tr>\n",
       "  </tbody>\n",
       "</table>\n",
       "<p>5 rows × 89 columns</p>\n",
       "</div>"
      ],
      "text/plain": [
       "  flight_date  avg_weeks     target  std_weeks  from_ATL  from_BOS  from_CLT  \\\n",
       "0  2012-06-19  12.875000  12.331296   9.812647         0         0         0   \n",
       "1  2012-09-10  14.285714  10.775182   9.466734         0         0         0   \n",
       "2  2012-10-05  10.863636  11.083177   9.035883         0         0         0   \n",
       "3  2011-10-09  11.480000  11.169268   7.990202         1         0         0   \n",
       "4  2012-02-21  11.450000  11.269364   9.517159         0         0         0   \n",
       "\n",
       "   from_DEN  from_DFW  from_DTW  ...  day_22  day_23  day_24  day_25  day_26  \\\n",
       "0         0         0         0  ...       0       0       0       0       0   \n",
       "1         0         0         0  ...       0       0       0       0       0   \n",
       "2         1         0         0  ...       0       0       0       0       0   \n",
       "3         0         0         0  ...       0       0       0       0       0   \n",
       "4         1         0         0  ...       0       0       0       0       0   \n",
       "\n",
       "   day_27  day_28  day_29  day_30  day_31  \n",
       "0       0       0       0       0       0  \n",
       "1       0       0       0       0       0  \n",
       "2       0       0       0       0       0  \n",
       "3       0       0       0       0       0  \n",
       "4       0       0       0       0       0  \n",
       "\n",
       "[5 rows x 89 columns]"
      ]
     },
     "execution_count": 13,
     "metadata": {},
     "output_type": "execute_result"
    }
   ],
   "source": [
    "#Encode categorical variables\n",
    "df = pd.get_dummies(data=df, columns=['year', 'month', 'day'])\n",
    "df.head()"
   ]
  },
  {
   "cell_type": "code",
   "execution_count": 14,
   "metadata": {
    "id": "1BPyLWgmh0Rn"
   },
   "outputs": [],
   "source": [
    "#Divide the trainig set into training and test sets to validate our model before we fit it on the whole train\n",
    "X = df.drop(['flight_date', 'target'], axis=1).values\n",
    "y = df['target']\n",
    "from sklearn.model_selection import train_test_split\n",
    "X_train, X_test, y_train, y_test = train_test_split(X, y, test_size=0.25, random_state=0)"
   ]
  },
  {
   "cell_type": "code",
   "execution_count": 15,
   "metadata": {
    "colab": {
     "base_uri": "https://localhost:8080/"
    },
    "id": "160f8d3LkRHV",
    "outputId": "f6a70db2-f4ee-4aea-c5ef-7262ff4de1cc"
   },
   "outputs": [
    {
     "name": "stdout",
     "output_type": "stream",
     "text": [
      "0.7314846321478717\n"
     ]
    }
   ],
   "source": [
    "# Build our baseline random forest model\n",
    "from sklearn.ensemble import RandomForestRegressor\n",
    "from sklearn.metrics import mean_squared_error as MSE\n",
    "rf = RandomForestRegressor(random_state=0)\n",
    "# Fit the model\n",
    "rf.fit(X_train, y_train)\n",
    "# Measure model performance\n",
    "y_pred = rf.predict(X_test)\n",
    "#Compute rmse on train\n",
    "mse = MSE(y_test, y_pred)\n",
    "# Compute test-set RMSE\n",
    "rmse = mse**(1/2)\n",
    "print(rmse)"
   ]
  },
  {
   "cell_type": "code",
   "execution_count": 16,
   "metadata": {
    "colab": {
     "base_uri": "https://localhost:8080/"
    },
    "id": "P0YbhKAplTFq",
    "outputId": "6ce07c12-f3f5-4692-f335-b9b8460e69ba"
   },
   "outputs": [
    {
     "name": "stdout",
     "output_type": "stream",
     "text": [
      "{'bootstrap': [True, False],\n",
      " 'max_depth': [10, 20, 30, 40, 50, 60, 70, 80, 90, 100, 110, None],\n",
      " 'max_features': ['auto', 'sqrt'],\n",
      " 'min_samples_leaf': [1, 2, 4],\n",
      " 'min_samples_split': [2, 5, 10],\n",
      " 'n_estimators': [200, 400, 600, 800, 1000, 1200, 1400, 1600, 1800, 2000]}\n"
     ]
    }
   ],
   "source": [
    "from pprint import pprint\n",
    "from sklearn.model_selection import RandomizedSearchCV\n",
    "# Number of trees in random forest\n",
    "n_estimators = [int(x) for x in np.linspace(start = 200, stop = 2000, num = 10)]\n",
    "# Number of features to consider at every split\n",
    "max_features = ['auto', 'sqrt']\n",
    "# Maximum number of levels in tree\n",
    "max_depth = [int(x) for x in np.linspace(10, 110, num = 11)]\n",
    "max_depth.append(None)\n",
    "# Minimum number of samples required to split a node\n",
    "min_samples_split = [2, 5, 10]\n",
    "# Minimum number of samples required at each leaf node\n",
    "min_samples_leaf = [1, 2, 4]\n",
    "# Method of selecting samples for training each tree\n",
    "bootstrap = [True, False]\n",
    "# Create the random grid\n",
    "random_grid = {'n_estimators': n_estimators,\n",
    "               'max_features': max_features,\n",
    "               'max_depth': max_depth,\n",
    "               'min_samples_split': min_samples_split,\n",
    "               'min_samples_leaf': min_samples_leaf,\n",
    "               'bootstrap': bootstrap}\n",
    "pprint(random_grid)"
   ]
  },
  {
   "cell_type": "code",
   "execution_count": 17,
   "metadata": {
    "colab": {
     "base_uri": "https://localhost:8080/",
     "height": 435
    },
    "id": "cvBdaXXNlvXt",
    "outputId": "fc0cea67-f0ba-402d-d298-17b669d13d60"
   },
   "outputs": [
    {
     "name": "stdout",
     "output_type": "stream",
     "text": [
      "Fitting 3 folds for each of 100 candidates, totalling 300 fits\n"
     ]
    },
    {
     "data": {
      "text/plain": [
       "RandomizedSearchCV(cv=3, estimator=RandomForestRegressor(random_state=0),\n",
       "                   n_iter=100, n_jobs=-1,\n",
       "                   param_distributions={'bootstrap': [True, False],\n",
       "                                        'max_depth': [10, 20, 30, 40, 50, 60,\n",
       "                                                      70, 80, 90, 100, 110,\n",
       "                                                      None],\n",
       "                                        'max_features': ['auto', 'sqrt'],\n",
       "                                        'min_samples_leaf': [1, 2, 4],\n",
       "                                        'min_samples_split': [2, 5, 10],\n",
       "                                        'n_estimators': [200, 400, 600, 800,\n",
       "                                                         1000, 1200, 1400, 1600,\n",
       "                                                         1800, 2000]},\n",
       "                   random_state=42, verbose=2)"
      ]
     },
     "execution_count": 17,
     "metadata": {},
     "output_type": "execute_result"
    }
   ],
   "source": [
    "# Random search of parameters, using 3 fold cross validation, \n",
    "# search across 100 different combinations, and use all available cores\n",
    "rf_random = RandomizedSearchCV(estimator = rf, param_distributions = random_grid, n_iter = 100, cv = 3, verbose=2, random_state=42, n_jobs = -1)\n",
    "# Fit the random search model\n",
    "rf_random.fit(X_train, y_train)"
   ]
  },
  {
   "cell_type": "code",
   "execution_count": 18,
   "metadata": {
    "colab": {
     "base_uri": "https://localhost:8080/"
    },
    "id": "YefTzuATmCT1",
    "outputId": "fd027fd8-99f1-45c0-ff34-c42123462b2a"
   },
   "outputs": [
    {
     "data": {
      "text/plain": [
       "{'n_estimators': 1600,\n",
       " 'min_samples_split': 5,\n",
       " 'min_samples_leaf': 1,\n",
       " 'max_features': 'sqrt',\n",
       " 'max_depth': 70,\n",
       " 'bootstrap': False}"
      ]
     },
     "execution_count": 18,
     "metadata": {},
     "output_type": "execute_result"
    }
   ],
   "source": [
    "#Best parameters\n",
    "rf_random.best_params_"
   ]
  },
  {
   "cell_type": "code",
   "execution_count": 19,
   "metadata": {
    "colab": {
     "base_uri": "https://localhost:8080/"
    },
    "id": "mn1C8WqF4aop",
    "outputId": "1f21c274-6cfd-4060-c570-154cc72d73c7"
   },
   "outputs": [
    {
     "name": "stdout",
     "output_type": "stream",
     "text": [
      "0.6974470809946727\n"
     ]
    }
   ],
   "source": [
    "best_random = rf_random.best_estimator_\n",
    "# Fit the model\n",
    "best_random.fit(X_train, y_train)\n",
    "# Measure model performance\n",
    "y_pred = best_random.predict(X_test)\n",
    "#Compute rmse on train\n",
    "mse = MSE(y_test, y_pred)\n",
    "# Compute test-set RMSE\n",
    "rmse = mse**(1/2)\n",
    "print(rmse)"
   ]
  },
  {
   "cell_type": "code",
   "execution_count": 20,
   "metadata": {
    "id": "VO4-ZtCYA6Yg"
   },
   "outputs": [
    {
     "name": "stdout",
     "output_type": "stream",
     "text": [
      "0.7314846321478717\n"
     ]
    }
   ],
   "source": [
    "rf_r = RandomForestRegressor(random_state=0)\n",
    "# Fit the model\n",
    "rf_r.fit(X_train, y_train)\n",
    "# Measure model performance\n",
    "y_pred = rf_r.predict(X_test)\n",
    "#Compute rmse on train\n",
    "mse = MSE(y_test, y_pred)\n",
    "# Compute test-set RMSE\n",
    "rmse = mse**(1/2)\n",
    "print(rmse)"
   ]
  },
  {
   "cell_type": "code",
   "execution_count": 21,
   "metadata": {
    "id": "UT25rbIGbw5U"
   },
   "outputs": [],
   "source": [
    "#Convert flight date type to datetime type\n",
    "#df['flight_date'] = df['flight_date'].apply(pd.to_datetime)"
   ]
  },
  {
   "cell_type": "code",
   "execution_count": null,
   "metadata": {
    "colab": {
     "base_uri": "https://localhost:8080/",
     "height": 35
    },
    "id": "Ro_6CabZq5hU",
    "outputId": "d44c93f5-0413-4baa-9807-ff1739b5d8e9"
   },
   "outputs": [],
   "source": [
    "# \"\"\" the Metadata API\"\"\"\n",
    "\n",
    "# from joblib import Memory\n",
    "# import requests\n",
    "# location = './cachedir'\n",
    "# memory = Memory(location, verbose=0)\n",
    "\n",
    "# headers = {'x-rapidapi-host': \"airport-info.p.rapidapi.com\",\n",
    "#            'x-rapidapi-key': \"670c14cef2mshc0f539c8f496dbcp19f4cejsn7e4b16db61a9\"}\n",
    "\n",
    "# def metadata_airport(code):\n",
    "#     \"\"\"\n",
    "#     we get meta data for each airport\n",
    "#     \"\"\"\n",
    "#     url = \"https://airport-info.p.rapidapi.com/airport\"\n",
    "#     querystring = {\"iata\" : code, \"icao\" : code}\n",
    "#     response = requests.request(\"GET\", url, headers=headers, params=querystring)\n",
    "#     # print(response.text)\n",
    "#     response = dict(eval(response.text))\n",
    "    \n",
    "#     return response[\"city\"]\n",
    "\n",
    "# metadata_airport = memory.cache(metadata_airport)\n",
    "\n",
    "# metadata_airport('CMN')"
   ]
  },
  {
   "cell_type": "code",
   "execution_count": null,
   "metadata": {
    "id": "8BRDyqk8-dUP"
   },
   "outputs": [],
   "source": [
    "# #Add two new columns with cities\n",
    "# df[\"destination\"] = \"\"\n",
    "# for i in df.index:\n",
    "#   df[\"destination\"][i] = metadata_airport(df[\"to\"][i])\n",
    "# df.head()"
   ]
  },
  {
   "cell_type": "code",
   "execution_count": null,
   "metadata": {
    "id": "ADK_qB8Gfuvx"
   },
   "outputs": [],
   "source": [
    "# #Replace DFW Airport by Texas\n",
    "# df['destination'].replace('DFW Airport', 'Texas', inplace=True)"
   ]
  },
  {
   "cell_type": "code",
   "execution_count": null,
   "metadata": {
    "id": "AmFxL9Sbm6gx"
   },
   "outputs": [],
   "source": [
    "# start = df['flight_date'].min()"
   ]
  },
  {
   "cell_type": "code",
   "execution_count": null,
   "metadata": {
    "id": "XixGxVh_ndkN"
   },
   "outputs": [],
   "source": [
    "# end = df['flight_date'].max()"
   ]
  },
  {
   "cell_type": "code",
   "execution_count": null,
   "metadata": {
    "id": "xlUY0mpteD9c"
   },
   "outputs": [],
   "source": [
    "# unique_dest = df['destination'].unique().tolist()\n",
    "# unique_dest = list(filter(None, unique_dest))\n",
    "# unique_dest"
   ]
  },
  {
   "cell_type": "code",
   "execution_count": null,
   "metadata": {
    "id": "7GMNXEcongVS"
   },
   "outputs": [],
   "source": [
    "#!pip install WorldWeatherPy"
   ]
  },
  {
   "cell_type": "code",
   "execution_count": null,
   "metadata": {
    "id": "tklgS5W4DmSF"
   },
   "outputs": [],
   "source": [
    "# from WorldWeatherPy import DetermineListOfAttributes\n",
    "# from WorldWeatherPy import HistoricalLocationWeather\n",
    "# from WorldWeatherPy import RetrieveByAttribute"
   ]
  },
  {
   "cell_type": "code",
   "execution_count": null,
   "metadata": {
    "id": "kgqoOahNsyhU"
   },
   "outputs": [],
   "source": [
    "# data = pd.DataFrame(columns = ['totalSnow_cm', 'precipMM', 'tempC', 'windspeedKmph'])\n",
    "# for x in unique_dest:\n",
    "#   dataset = HistoricalLocationWeather('dd141467b93a4455ab7100637220501', x, start, end, 12).retrieve_hist_data()\n",
    "#   dataset = dataset[['totalSnow_cm', 'precipMM', 'tempC', 'windspeedKmph']]\n",
    "#   dataset = pd.DataFrame(dataset.values.reshape(-1,2,df.shape[1]).mean(1))\n",
    "#   data.append(dataset)\n",
    "# data.head()"
   ]
  },
  {
   "cell_type": "code",
   "execution_count": null,
   "metadata": {
    "id": "0yADaq4ttgwd"
   },
   "outputs": [],
   "source": [
    "# dataset = HistoricalLocationWeather('dd141467b93a4455ab7100637220501', 'Texas', start, end, 12).retrieve_hist_data()\n",
    "# weather = dataset[['totalSnow_cm', 'precipMM', 'tempC', 'windspeedKmph']]\n",
    "# weather.head()\n",
    "# #weather = weather.apply(pd.to_numeric)"
   ]
  },
  {
   "cell_type": "code",
   "execution_count": null,
   "metadata": {
    "id": "1pcF46duFAjp"
   },
   "outputs": [],
   "source": []
  }
 ],
 "metadata": {
  "colab": {
   "name": "Number of Flight Passengers Prediction.ipynb",
   "provenance": []
  },
  "kernelspec": {
   "display_name": "Python 3",
   "language": "python",
   "name": "python3"
  },
  "language_info": {
   "codemirror_mode": {
    "name": "ipython",
    "version": 3
   },
   "file_extension": ".py",
   "mimetype": "text/x-python",
   "name": "python",
   "nbconvert_exporter": "python",
   "pygments_lexer": "ipython3",
   "version": "3.8.8"
  }
 },
 "nbformat": 4,
 "nbformat_minor": 1
}
